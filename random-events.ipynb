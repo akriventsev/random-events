{
 "cells": [
  {
   "cell_type": "code",
   "execution_count": 2,
   "metadata": {},
   "outputs": [],
   "source": [
    "import numpy as np"
   ]
  },
  {
   "cell_type": "markdown",
   "metadata": {},
   "source": [
    "\n",
    "Рассмотрим каждый оракл как генератор случайных чисел в интервале [0,1] с заданной периодичностью. Если полученное число меньше заданного значения, то оракл совершает какое либо действие. Заданное пороговое значение представляет собой вероятность совершения события ораклом, обозначим его $$Po$$, далее оракл направляет транзакцию в контракт и контракт случайным образом (on-chain генерация случайных чисел возможна с использованием инфрастуктуры chainlink) с вероятностью $$Pc$$\n",
    "Таким образом вероятность того что событие будет инициировано и будет исполнено будет равна $$Pe = Po*Pc$$ \n",
    "если таких ораклов несколько и их количество обозначим как $n$, то будем иметь вектор верятностей $$\\{Pe_1,Pe_2,...,Pe_n\\}$$\n",
    "\n",
    "Вычислим вероятность наступления хотя бы одного из этих событий \n",
    "$$ Ps = 1 - \\prod_{i=0}^{n}(1-Pe_i) $$\n",
    "\n",
    "Далее применив формулу Бернулли вычислим вероятность совершения событий $k$ раз при $n$ испытаний\n",
    "$$P_{k,n}=C_n^k\\cdot Ps^k \\cdot (1-Ps)^{n-k}$$\n",
    "\n",
    "Далее проведем имитацию схемы генерации случайных событий"
   ]
  },
  {
   "cell_type": "code",
   "execution_count": 99,
   "metadata": {},
   "outputs": [],
   "source": [
    "oracle_probability = 0.00001 #вероятность генерации события ораклом\n",
    "contract_probability = 0.12  #вероятность исполнения контрактом"
   ]
  },
  {
   "cell_type": "code",
   "execution_count": 100,
   "metadata": {},
   "outputs": [
    {
     "name": "stdout",
     "output_type": "stream",
     "text": [
      "round 0\t, 6\n",
      "round 1\t, 5\n",
      "round 2\t, 2\n",
      "round 3\t, 2\n",
      "round 4\t, 2\n",
      "round 5\t, 1\n",
      "round 6\t, 3\n",
      "round 7\t, 5\n",
      "round 8\t, 5\n",
      "round 9\t, 6\n",
      "round 10\t, 2\n",
      "round 11\t, 4\n",
      "round 12\t, 4\n",
      "round 13\t, 5\n",
      "round 14\t, 5\n",
      "round 15\t, 5\n",
      "round 16\t, 1\n",
      "round 17\t, 0\n",
      "round 18\t, 7\n",
      "round 19\t, 2\n",
      "round 20\t, 3\n",
      "round 21\t, 7\n",
      "round 22\t, 2\n",
      "round 23\t, 2\n",
      "round 24\t, 6\n",
      "round 25\t, 1\n",
      "round 26\t, 4\n",
      "round 27\t, 8\n",
      "round 28\t, 6\n",
      "round 29\t, 2\n",
      "round 30\t, 7\n",
      "round 31\t, 1\n",
      "round 32\t, 2\n",
      "round 33\t, 3\n",
      "round 34\t, 2\n",
      "round 35\t, 3\n",
      "round 36\t, 4\n",
      "round 37\t, 3\n",
      "round 38\t, 7\n",
      "round 39\t, 3\n",
      "round 40\t, 3\n",
      "round 41\t, 6\n",
      "round 42\t, 4\n",
      "round 43\t, 4\n",
      "round 44\t, 2\n",
      "round 45\t, 5\n",
      "round 46\t, 6\n",
      "round 47\t, 2\n",
      "round 48\t, 7\n",
      "round 49\t, 4\n",
      "round 50\t, 5\n",
      "round 51\t, 0\n",
      "round 52\t, 0\n",
      "round 53\t, 6\n",
      "round 54\t, 6\n",
      "round 55\t, 3\n",
      "round 56\t, 2\n",
      "round 57\t, 2\n",
      "round 58\t, 2\n",
      "round 59\t, 6\n"
     ]
    }
   ],
   "source": [
    "iteration = 0\n",
    "while iteration < 60:\n",
    "    oracles_events = np.random.rand(600000,5)\n",
    "    contract_events = np.random.rand(600000,5)\n",
    "    iteration_events_count = 0\n",
    "    i = 0\n",
    "    while i < len(oracles_events):\n",
    "        result = []\n",
    "        for j in range(0,len(oracles_events[i])):\n",
    "            if oracles_events[i][j]<=oracle_probability and contract_events[i][j]<=contract_probability:\n",
    "                result.append(1)\n",
    "            else:\n",
    "                result.append(0)\n",
    "        iteration_events_count += np.sum(result)\n",
    "        i=i+1\n",
    "    print(\"round %d\\t, %d\"%(iteration,iteration_events_count))\n",
    "    iteration = iteration +1"
   ]
  },
  {
   "cell_type": "markdown",
   "metadata": {},
   "source": [
    "В результате имитации получаем что при генерации серии из 600000 событий, от 1 до 6 в серии будут успешно исполнены, если в качестве периода рассматривать неделю, то интервал генерации случайного события будет равен одной секунде"
   ]
  }
 ],
 "metadata": {
  "kernelspec": {
   "display_name": "Python 3",
   "language": "python",
   "name": "python3"
  },
  "language_info": {
   "codemirror_mode": {
    "name": "ipython",
    "version": 3
   },
   "file_extension": ".py",
   "mimetype": "text/x-python",
   "name": "python",
   "nbconvert_exporter": "python",
   "pygments_lexer": "ipython3",
   "version": "3.8.10"
  }
 },
 "nbformat": 4,
 "nbformat_minor": 4
}
